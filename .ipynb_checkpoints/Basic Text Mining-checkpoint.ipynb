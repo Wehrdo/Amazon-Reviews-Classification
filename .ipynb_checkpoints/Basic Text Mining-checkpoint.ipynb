{
 "cells": [
  {
   "cell_type": "markdown",
   "metadata": {},
   "source": [
    "<div align='right' style='float: right'>2016-08-10<br />David Wehr</div>\n",
    "# Basic Text Mining\n",
    "##### Using Python and Scikit-Learn to perform text classification, using the bag-of-words document model, and a linear SVM classifier"
   ]
  },
  {
   "cell_type": "markdown",
   "metadata": {},
   "source": [
    "#### Imports"
   ]
  },
  {
   "cell_type": "code",
   "execution_count": 25,
   "metadata": {
    "collapsed": false
   },
   "outputs": [],
   "source": [
    "import sqlite3\n",
    "import re\n",
    "from collections import Counter, namedtuple\n",
    "import itertools\n",
    "import numpy as np\n",
    "import matplotlib.pyplot as plt\n",
    "from sklearn import svm, cross_validation, metrics, naive_bayes, ensemble, tree\n",
    "%matplotlib inline"
   ]
  },
  {
   "cell_type": "markdown",
   "metadata": {},
   "source": [
    "#### Open the SQLite Database\n",
    "This contains all of our data, in a table called \"Reviews\", with columns:<br />\n",
    "Id | ProductId | UserId | ProfileName | HelpfulnessNumerator | HelpfulnessDenominator | Score | Time | Summary | Text"
   ]
  },
  {
   "cell_type": "code",
   "execution_count": 2,
   "metadata": {
    "collapsed": false
   },
   "outputs": [],
   "source": [
    "connection = sqlite3.connect('amazon-fine-foods/database_small.sqlite')\n",
    "cursor = connection.cursor()"
   ]
  },
  {
   "cell_type": "markdown",
   "metadata": {},
   "source": [
    "#### Custom Review datatype\n",
    "This will make the code more readable later"
   ]
  },
  {
   "cell_type": "code",
   "execution_count": 3,
   "metadata": {
    "collapsed": false
   },
   "outputs": [],
   "source": [
    "Review = namedtuple('Review', ['id', 'text'])"
   ]
  },
  {
   "cell_type": "markdown",
   "metadata": {},
   "source": [
    "#### Get Reviews\n",
    "*positive_reviews* will contain all reviews with 4 or 5 stars<br />\n",
    "*negative_reviews* will contain all reviews with 1 or 2 stars<br />\n",
    "We put them together into *reviews*, and create a list of *labels*, where 1 means postive, and 0 is negative"
   ]
  },
  {
   "cell_type": "code",
   "execution_count": 4,
   "metadata": {
    "collapsed": false
   },
   "outputs": [
    {
     "data": {
      "text/plain": [
       "Review(id=1, text='I have bought several of the Vitality canned dog food products and have found them all to be of good quality. The product looks more like a stew than a processed meat and it smells better. My Labrador is finicky and she appreciates this product better than  most.')"
      ]
     },
     "execution_count": 4,
     "metadata": {},
     "output_type": "execute_result"
    }
   ],
   "source": [
    "cursor.execute('SELECT Id, Text from Reviews WHERE Score > 3 LIMIT 10000')\n",
    "positive_reviews = list(map(Review._make, cursor.fetchall()))\n",
    "cursor.execute('SELECT Id, Text from Reviews WHERE Score < 3 LIMIT 10000')\n",
    "negative_reviews = list(map(Review._make, cursor.fetchall()))\n",
    "reviews = positive_reviews + negative_reviews\n",
    "labels = [1]*len(positive_reviews) + [0]*len(negative_reviews)\n",
    "reviews[0]"
   ]
  },
  {
   "cell_type": "markdown",
   "metadata": {},
   "source": [
    "### Split into test and train sets\n",
    "This will randomly split our data into $\\frac{1}{4}$ testing, $\\frac{3}{4}$ training"
   ]
  },
  {
   "cell_type": "code",
   "execution_count": 5,
   "metadata": {
    "collapsed": false
   },
   "outputs": [],
   "source": [
    "train_reviews, test_reviews, train_labels, test_labels = cross_validation.train_test_split(reviews, labels, test_size=0.25)"
   ]
  },
  {
   "cell_type": "markdown",
   "metadata": {},
   "source": [
    "### Bag-of-Words Model\n",
    "For classifying reviews, we will be using the bag-of-words model. Essentially, treat each paragraph as a list of words, disregarding their order, punctuation, etc.<br/>\n",
    "This has obvious drawbacks. The order is lost, so the semantics of even simple phrases can get lost. For example, it will treat \"I think this food rocks!\" nearly the same as \"I think this food is rocks...\" Two very different meanings. More complex language features, like sarcasm (\"I'm so happy I spent $40 on 1lb of coffee that tastes like Folgers!\"), don't have a chance of being properly represented. Synonyms are treated as different words, so \"bad\" and \"horrible\" are represented as two completely unrelated words.<br />\n",
    "Despite all these drawbacks, it has proven to be a very successful model for text classification.<br/>\n",
    "This model can be extended in a number of ways, with varying success:\n",
    "* Including collocations (multi-word phrases, like \"pickup truck\")\n",
    "* Normalization (TF-IDF, or length normalization)\n",
    "* Word stemming and lemmatization\n",
    "<br />"
   ]
  },
  {
   "cell_type": "markdown",
   "metadata": {},
   "source": [
    "#### Tokenization\n",
    "To faciliate the bag-of-words model, we must first convert a paragraph into a list of words.<br />\n",
    "We could just split by spaces, but we'll go a step and further convert everything to lowercase and strip out special characters and punctuation."
   ]
  },
  {
   "cell_type": "code",
   "execution_count": 37,
   "metadata": {
    "collapsed": false
   },
   "outputs": [],
   "source": [
    "def tokenize(text):\n",
    "    text = text.lower()\n",
    "    # Strip out these characters\n",
    "    text = re.sub(r'[.:;,!#%()\\'<>]', '', text)\n",
    "    # Replace these characters with spaces\n",
    "    text = re.sub(r'[\\-/\\\\&]', ' ', text)\n",
    "    return text.split()"
   ]
  },
  {
   "cell_type": "code",
   "execution_count": 38,
   "metadata": {
    "collapsed": false,
    "scrolled": true
   },
   "outputs": [
    {
     "data": {
      "text/plain": [
       "['hello',\n",
       " 'world',\n",
       " 'im',\n",
       " 'a',\n",
       " 'consumer',\n",
       " 'reviewer',\n",
       " 'i',\n",
       " 'like',\n",
       " '30',\n",
       " 'of',\n",
       " 'special',\n",
       " 'characters']"
      ]
     },
     "execution_count": 38,
     "metadata": {},
     "output_type": "execute_result"
    }
   ],
   "source": [
    "tokenize(\"Hello, world! (I'm a consumer/reviewer & I like 30% of special-characters)\")"
   ]
  },
  {
   "cell_type": "markdown",
   "metadata": {},
   "source": [
    "#### Create Vocabulary\n",
    "Most words appear quite infrequently, and so are not likely to contain much reliable prediction power, but slow down computation time. Let's get rid of them."
   ]
  },
  {
   "cell_type": "code",
   "execution_count": 8,
   "metadata": {
    "collapsed": false
   },
   "outputs": [
    {
     "name": "stdout",
     "output_type": "stream",
     "text": [
      "Total unique words: 39264\n",
      "Our vocabulary size: 10140\n"
     ]
    }
   ],
   "source": [
    "all_words = itertools.chain.from_iterable(tokenize(review.text) for review in reviews)\n",
    "word_counts = Counter(all_words)\n",
    "our_vocab = [word for word, count in word_counts.most_common() if count >= 5]\n",
    "print(\"Total unique words: {}\".format(len(word_counts)))\n",
    "print(\"Our vocabulary size: {}\".format(len(our_vocab)))"
   ]
  },
  {
   "cell_type": "markdown",
   "metadata": {},
   "source": [
    "#### Log-log distribution of most common words and number of times they appear\n",
    "You can see that common words appear exponentially more often than less-common words"
   ]
  },
  {
   "cell_type": "code",
   "execution_count": 9,
   "metadata": {
    "collapsed": false
   },
   "outputs": [
    {
     "data": {
      "text/plain": [
       "[<matplotlib.lines.Line2D at 0x25974760c50>]"
      ]
     },
     "execution_count": 9,
     "metadata": {},
     "output_type": "execute_result"
    },
    {
     "data": {
      "image/png": "[encoded data removed]",
      "text/plain": [
       "<matplotlib.figure.Figure at 0x25972bea198>"
      ]
     },
     "metadata": {},
     "output_type": "display_data"
    }
   ],
   "source": [
    "plt.loglog([count for word, count in word_counts.most_common()])"
   ]
  },
  {
   "cell_type": "markdown",
   "metadata": {},
   "source": [
    "#### Create feature vectors\n",
    "The scikit-learn library expects inputs to be expressed in a matrix, where each row is a training sample. The row is a vector that describes the sample. In our case, the columns correspond with different words, and the entry is the number of times that word appears.<br />\n",
    "Let's say our vocabulary is [*tasty*, *gross*, *okay*]<br />\n",
    "$$\\begin{bmatrix}\n",
    "    2       & 0 & 1 \\\\\n",
    "    0       & 1 & 1 \\\\\n",
    "    \\vdots & \\vdots & \\vdots & \\\\\n",
    "    x_{N1}       & x_{N2} & x_{N3}\n",
    "\\end{bmatrix}$$\n",
    "\n",
    "In the above example, sample **1** had the word \"tasty\" appear twice, and the word \"okay\" appear once, while sample **2** just had the word \"gross\" appear once."
   ]
  },
  {
   "cell_type": "code",
   "execution_count": 10,
   "metadata": {
    "collapsed": false
   },
   "outputs": [],
   "source": [
    "def reviews_to_matrix(reviews, vocabulary):\n",
    "    matrix_dims = (len(reviews), len(vocabulary))\n",
    "    mat = np.zeros(matrix_dims)\n",
    "    index_lookup = {word: i for i, word in enumerate(vocabulary)}\n",
    "    for i, review in enumerate(reviews):\n",
    "        #word_counts = Counter(tokenize(review.text))\n",
    "        for word in tokenize(review.text):\n",
    "            idx = index_lookup.get(word)\n",
    "            if idx is not None: mat[i,idx] += 1\n",
    "    return mat"
   ]
  },
  {
   "cell_type": "code",
   "execution_count": 11,
   "metadata": {
    "collapsed": false
   },
   "outputs": [],
   "source": [
    "train_X = reviews_to_matrix(train_reviews, our_vocab)"
   ]
  },
  {
   "cell_type": "markdown",
   "metadata": {},
   "source": [
    "### Classification\n",
    "#### Support Vector Machine\n",
    "Support vector machines separate the feature space into the two separate classes with a hyperplane.<br/>\n",
    "See this for a more in-depth explanation of how SVMs work, and their theoretical underpinnings: http://web.mit.edu/6.034/wwwbob/svm-notes-long-08.pdf\n",
    "<br/><br/>\n",
    "For our purposes, its good to know that a linear SVM works well for high-dimensional data, such as our word counts (~10,000 dimensions). They work well in terms of both performance and prediction accuracy. For lower-dimensional data, a radial-bias function (RBF) kernel tends to work best for most problems.\n",
    "#### Other classification algorithms\n",
    "We could use any supervised machine learning algorithm here, such as:\n",
    "* Naive Bayes - This has traditionally been used with text classification before the popularity of SVMs\n",
    "* Decision Tree - On high-dimensional data, they will tend to overfit. This can be mitigated by using ensembles of decision trees, such as the AdaBoost algorithm\n",
    "* Logistic Regression\n",
    "* K-Nearest Neighbors\n",
    "* Multi-layer Perceptron (Neural network)"
   ]
  },
  {
   "cell_type": "code",
   "execution_count": 36,
   "metadata": {
    "collapsed": false
   },
   "outputs": [
    {
     "data": {
      "text/plain": [
       "LinearSVC(C=1, class_weight=None, dual=True, fit_intercept=True,\n",
       "     intercept_scaling=1, loss='squared_hinge', max_iter=1000,\n",
       "     multi_class='ovr', penalty='l2', random_state=None, tol=0.0001,\n",
       "     verbose=0)"
      ]
     },
     "execution_count": 36,
     "metadata": {},
     "output_type": "execute_result"
    }
   ],
   "source": [
    "classifier = svm.LinearSVC(C=1)\n",
    "#classifier = naive_bayes.MultinomialNB()\n",
    "#classifier = tree.DecisionTreeClassifier()\n",
    "#classifier = ensemble.AdaBoostClassifier(n_estimators=10)\n",
    "classifier.fit(train_X, train_labels)"
   ]
  },
  {
   "cell_type": "markdown",
   "metadata": {},
   "source": [
    "#### Make predictions on test set\n",
    "The test set has not been seen yet by the classifier"
   ]
  },
  {
   "cell_type": "code",
   "execution_count": 34,
   "metadata": {
    "collapsed": true
   },
   "outputs": [],
   "source": [
    "test_X = reviews_to_matrix(test_reviews, our_vocab)\n",
    "test_predictions = classifier.predict(test_X)"
   ]
  },
  {
   "cell_type": "markdown",
   "metadata": {},
   "source": [
    "#### Evaluate Performance\n",
    "Accuracy is the ratio of correct predictions to the total number of test samples<br/>\n",
    "Precision is the ratio of correctly predicted positive reviews to the number of predicted positive reviews<br/>\n",
    "Recall is the ratio of correctly predicted positive reviews to the total number of positive reviews"
   ]
  },
  {
   "cell_type": "code",
   "execution_count": 35,
   "metadata": {
    "collapsed": false
   },
   "outputs": [
    {
     "name": "stdout",
     "output_type": "stream",
     "text": [
      "Accuracy: 0.7896\n",
      "Precision: 0.7676537585421412\n",
      "Recall: 0.8212835093419983\n"
     ]
    }
   ],
   "source": [
    "accuracy = metrics.accuracy_score(test_labels, test_predictions)\n",
    "precision = metrics.precision_score(test_labels, test_predictions)\n",
    "recall = metrics.recall_score(test_labels, test_predictions)\n",
    "print(\"Accuracy: {}\\nPrecision: {}\\nRecall: {}\".format(accuracy, precision, recall))"
   ]
  },
  {
   "cell_type": "markdown",
   "metadata": {},
   "source": [
    "#### Feature Evaluation\n",
    "For SVMs, we can see how influential particular words are, and whether they are positive or negative, based on how they influence the hyperplane. Some other classifier algorithms are able to be evaluated in this manner, too."
   ]
  },
  {
   "cell_type": "code",
   "execution_count": 15,
   "metadata": {
    "collapsed": false
   },
   "outputs": [
    {
     "name": "stdout",
     "output_type": "stream",
     "text": [
      "Positive words:\n",
      "['superb', 'camper', 'lazy', 'neat', 'shattered', 'glad', 'senior', 'houttes', 'yea', 'eco', 'satay', '$400', 'puck', 'refined', 'deliciousbr', 'pricy', 'plockys', 'spike', 'additions', 'smoothest']\n",
      "Negative words:\n",
      "['disgusting', 'disappointing', 'revolting', 'canceled', 'horrible', 'manufacturing', 'yuck', 'sickeningly', 'hopes', 'significantly', 'franks', 'hadnt', 'died', 'awful', 'pekoe', 'atleast', 'dead', 'undrinkable', 'explode', 'awesomebr']\n"
     ]
    }
   ],
   "source": [
    "feature_importances = list(zip(classifier.coef_[0], our_vocab))\n",
    "feature_importances.sort(key=lambda t: t[0])\n",
    "print(\"Positive words:\")\n",
    "print([word for score, word in feature_importances[-20:]])\n",
    "print(\"Negative words:\")\n",
    "print([word for score, word in feature_importances[0:20]])"
   ]
  }
 ],
 "metadata": {
  "kernelspec": {
   "display_name": "Python [Root]",
   "language": "python",
   "name": "Python [Root]"
  },
  "language_info": {
   "codemirror_mode": {
    "name": "ipython",
    "version": 3
   },
   "file_extension": ".py",
   "mimetype": "text/x-python",
   "name": "python",
   "nbconvert_exporter": "python",
   "pygments_lexer": "ipython3",
   "version": "3.5.2"
  }
 },
 "nbformat": 4,
 "nbformat_minor": 0
}
